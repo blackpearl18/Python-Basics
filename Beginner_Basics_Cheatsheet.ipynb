{
 "cells": [
  {
   "cell_type": "code",
   "execution_count": 1,
   "metadata": {},
   "outputs": [
    {
     "name": "stdout",
     "output_type": "stream",
     "text": [
      "Hello Boy\n"
     ]
    }
   ],
   "source": [
    "#Variables are basically used to store the values and String is a series of characters, \n",
    "#covered by single or double quotes. \n",
    "print(\"Hello Boy\") #This line is used to print the plain string Hello Boy"
   ]
  },
  {
   "cell_type": "code",
   "execution_count": 2,
   "metadata": {},
   "outputs": [
    {
     "name": "stdout",
     "output_type": "stream",
     "text": [
      "Hello Boy..!!!\n"
     ]
    }
   ],
   "source": [
    "msg=\"Hello Boy..!!!\" #Here Variable named msg is created and string \"Hello Boy..!!!\" is assigned to it.\n",
    "print(msg)          #Here the printing command is implied on msg variable which will print it's content"
   ]
  },
  {
   "cell_type": "code",
   "execution_count": 5,
   "metadata": {},
   "outputs": [
    {
     "name": "stdout",
     "output_type": "stream",
     "text": [
      "Rahul Mistry\n"
     ]
    }
   ],
   "source": [
    "#We can even combine multiple strings together \n",
    "fn='Rahul'                 #Variables fn and ln are used to store the entered string\n",
    "ln='Mistry'\n",
    "full_name= fn+' '+ln     #Here Variable full_name is used to store the concatination result of both strings.\n",
    "print(full_name)      #Here result is printed using print command"
   ]
  },
  {
   "cell_type": "code",
   "execution_count": 6,
   "metadata": {},
   "outputs": [],
   "source": [
    "#Lists\n",
    "#List is basically a store which stores a series of items in particular order,which can be accessed later on using\n",
    "# index or running a loop\n",
    "cars=['nissan','pagani','rovers'] #Here list is being created and items are stored in list variable 'cars'"
   ]
  },
  {
   "cell_type": "code",
   "execution_count": 8,
   "metadata": {},
   "outputs": [
    {
     "name": "stdout",
     "output_type": "stream",
     "text": [
      "nissan\n"
     ]
    }
   ],
   "source": [
    "#To access or fetch the first item from the list following command is fired\n",
    "first_car=cars[0]  #Here cars[0] depicts that item at index position zero would be fetched as index starts from 0 to end \n",
    "print(first_car)"
   ]
  },
  {
   "cell_type": "code",
   "execution_count": 9,
   "metadata": {},
   "outputs": [
    {
     "name": "stdout",
     "output_type": "stream",
     "text": [
      "rovers\n"
     ]
    }
   ],
   "source": [
    "#To access or fetch the lastst item from the list following command is fired\n",
    "last_car=cars[-1]  #Here cars[-1] depicts that item at index position -1 i.e.(n-1) where n means end position\n",
    "                   #would be fetched, as index starts from 0 to n \n",
    "                        \n",
    "print(last_car)"
   ]
  },
  {
   "cell_type": "code",
   "execution_count": 10,
   "metadata": {},
   "outputs": [
    {
     "name": "stdout",
     "output_type": "stream",
     "text": [
      "[]\n"
     ]
    }
   ],
   "source": [
    "cars=[]        #Here an empty list is being created \n",
    "print(cars)  #Test result for creation of list is being printed"
   ]
  },
  {
   "cell_type": "code",
   "execution_count": 11,
   "metadata": {},
   "outputs": [
    {
     "name": "stdout",
     "output_type": "stream",
     "text": [
      "['limo', 'spyder', 'gt']\n"
     ]
    }
   ],
   "source": [
    "#Addition of items to the list is also efficient using following methods \n",
    "cars.append('limo') #Here append function is used to add items to the list whereas input string is entered ('<here>') \n",
    "cars.append('spyder')\n",
    "cars.append('gt')\n",
    "print(cars)           #Here the test result of addition of items in list is being printed"
   ]
  },
  {
   "cell_type": "code",
   "execution_count": 20,
   "metadata": {},
   "outputs": [
    {
     "name": "stdout",
     "output_type": "stream",
     "text": [
      "[1]\n",
      "[1, 4]\n",
      "[1, 4, 9]\n",
      "[1, 4, 9, 16]\n",
      "[1, 4, 9, 16, 25]\n",
      "[1, 4, 9, 16, 25, 36]\n",
      "[1, 4, 9, 16, 25, 36, 49]\n",
      "[1, 4, 9, 16, 25, 36, 49, 64]\n",
      "[1, 4, 9, 16, 25, 36, 49, 64, 81]\n",
      "[1, 4, 9, 16, 25, 36, 49, 64, 81, 100]\n",
      "[1, 4, 9, 16, 25, 36, 49, 64, 81, 100, 121]\n",
      "[1, 4, 9, 16, 25, 36, 49, 64, 81, 100, 121, 144]\n",
      "[1, 4, 9, 16, 25, 36, 49, 64, 81, 100, 121, 144, 169]\n",
      "[1, 4, 9, 16, 25, 36, 49, 64, 81, 100, 121, 144, 169, 196]\n"
     ]
    }
   ],
   "source": [
    "#Untill now we have seen the list which contains string items, now further we will move to addition of making \n",
    "#numerical list\n",
    "squares=[]   #Creation of empty list for numerical items\n",
    "for i in range(1,15): #Here for loop is fired to perform operation on its var i for range between (1 to 15) \n",
    "    squares.append(i**2) #Here the squared values of numbers are added to empty list of square in incremental order\n",
    "    print(squares)       "
   ]
  },
  {
   "cell_type": "code",
   "execution_count": 22,
   "metadata": {},
   "outputs": [
    {
     "name": "stdout",
     "output_type": "stream",
     "text": [
      "[1, 4, 9, 16, 25, 36, 49, 64, 81, 100, 121, 144, 169, 196]\n"
     ]
    }
   ],
   "source": [
    "#Here comprehensive for of list is depicted\n",
    "squares_c=[i**2 for i in range(1,15)] #Here the squaring command of items is fired in comprehensive manner of list\n",
    "print(squares_c)"
   ]
  },
  {
   "cell_type": "code",
   "execution_count": 8,
   "metadata": {},
   "outputs": [
    {
     "name": "stdout",
     "output_type": "stream",
     "text": [
      "['Rahul', 'Gaurav']\n"
     ]
    }
   ],
   "source": [
    "#Operations of slicing some items from the list \n",
    "finishers=['Rahul','Gaurav','Midhun','Husain','Kunal','Sagar']\n",
    "first_two= finishers[:2]  #This will print the items from indexed range 0 to 1 i.e n-1 here n is said being set as 2\n",
    "print(first_two)          # Here first two items are getting printed"
   ]
  },
  {
   "cell_type": "raw",
   "metadata": {},
   "source": [
    "    "
   ]
  },
  {
   "cell_type": "code",
   "execution_count": 12,
   "metadata": {},
   "outputs": [
    {
     "name": "stdout",
     "output_type": "stream",
     "text": [
      "['limo', 'spyder', 'gt']\n"
     ]
    }
   ],
   "source": [
    "#Here we can copy the whole list to the another newly variable created for list\n",
    "copy_cars=cars[:]\n",
    "print(copy_cars)"
   ]
  },
  {
   "cell_type": "code",
   "execution_count": 28,
   "metadata": {},
   "outputs": [
    {
     "name": "stdout",
     "output_type": "stream",
     "text": [
      "(2000, 3000)\n"
     ]
    }
   ],
   "source": [
    "#Tuples are basically similar to the lists, but these dont have ability for modification\n",
    "#Following is an example of tuple\n",
    "dimensions=(2000,3000)\n",
    "print(dimensions)"
   ]
  },
  {
   "cell_type": "code",
   "execution_count": 31,
   "metadata": {},
   "outputs": [
    {
     "name": "stdout",
     "output_type": "stream",
     "text": [
      "67\n",
      "False\n",
      "True\n",
      "False\n",
      "False\n",
      "True\n",
      "True\n"
     ]
    }
   ],
   "source": [
    "#From Here we will begin to operate at conditional level where various conditions and conditional operators would be used\n",
    "x=input()\n",
    "x=int() \n",
    "#Following are the Conditional Operators Performing Demonstrations on variable x and will return the boolean results\n",
    "print(x == 42)  # == operator is used for equal expressions i.e x equals to 42\n",
    "print(x != 23 ) # != Operator is used to depict not_equal expressions i.e x not equals to 23\n",
    "print(x > 50 )  # > operator is used to represent greater than expressions i.e. x is greater than 20\n",
    "print(x >=20)   # >= Operator is used to show greater than and equal expressions i.e. x is greater than and equal to 20\n",
    "print(x < 50)   # < operator is used to depict less than expressions i.e. x is less than 50\n",
    "print(x <= 45)  # <= operator is used to show less than and equalize expressions. i.e. x is less than and equal to 45"
   ]
  },
  {
   "cell_type": "code",
   "execution_count": 16,
   "metadata": {},
   "outputs": [
    {
     "name": "stdout",
     "output_type": "stream",
     "text": [
      "True\n",
      "False\n"
     ]
    }
   ],
   "source": [
    "#Now We Will perform some conditional test with lists which will return the boolean results as true or false\n",
    "print('Midhun' in finishers)  #These condition is used to check whether string 'Midhun' is present in list finishers\n",
    "print('Gaurav' not in finishers) #These condition is used to check if string 'Gaurav' is present or not in list finishers"
   ]
  },
  {
   "cell_type": "code",
   "execution_count": 18,
   "metadata": {},
   "outputs": [
    {
     "name": "stdout",
     "output_type": "stream",
     "text": [
      "True\n",
      "False\n"
     ]
    }
   ],
   "source": [
    "#Here we can directly assign the boolean values to the variables, as those might be needed in complex code structures\n",
    "game_active = True      #Value True assigned to variable game_active \n",
    "can_edit = False        #Value False assigned to variable can_edit \n",
    "\n",
    "print(game_active) \n",
    "print(can_edit)"
   ]
  },
  {
   "cell_type": "code",
   "execution_count": 57,
   "metadata": {},
   "outputs": [
    {
     "name": "stdout",
     "output_type": "stream",
     "text": [
      "Karo Vote\n"
     ]
    }
   ],
   "source": [
    "# If Statements - If statements are basically used to analyse and test the particular condition and respond accordingly\n",
    "age=20 #Here age variable will be assigned input value\n",
    "#Here we will begin with the simple test with 'if'\n",
    "if age >=18 :          #Here variable age is given conditional assignment i.e. if the age is greater than or equal to\n",
    "    print(\"Karo Vote\") #  18 will satisfy the condition for eligibility to vote and if statement is ended with ':' \n",
    "            "
   ]
  },
  {
   "cell_type": "code",
   "execution_count": 30,
   "metadata": {},
   "outputs": [
    {
     "name": "stdout",
     "output_type": "stream",
     "text": [
      "15\n"
     ]
    }
   ],
   "source": [
    "#Here we will go for The result after the other side condition of the if i.e. when 'if' condition is not i then \n",
    "# the loop will go towards 'else' condition and show the dedicated result.In following code there are several nested \n",
    "# conditions to perform the various else parts of the whole code\n",
    "if age < 4:             #Here in this line age is being analysed if less than 4 then go to next code \n",
    "    ticket_price = 0   # This is the primary result if the as ticket price=0 if the age is below 4\n",
    "    print(ticket_price)\n",
    "elif age < 18:         #This is elif condn i.e else if condn where it checks \n",
    "                       #if it is more than 1st condn and less than 18\n",
    "    ticket_price = 10  #This prints the result of elif condition if satisfied i.e. ticket_price= 10\n",
    "    print(ticket_price)\n",
    "else:                 #This else part depicts the other side of if i.e. as age above 18 then \n",
    "    ticket_price = 15 #ticket price would be 15\n",
    "    print(ticket_price)\n",
    "                    "
   ]
  },
  {
   "cell_type": "code",
   "execution_count": 34,
   "metadata": {},
   "outputs": [
    {
     "name": "stdout",
     "output_type": "stream",
     "text": [
      "1\n",
      "2\n",
      "3\n",
      "4\n",
      "5\n"
     ]
    }
   ],
   "source": [
    "#Now We will go further on While Loop\n",
    "#While loops is used to check the condition  till the required condition gets satisfied \n",
    "#Following is the demonstration on simple while loop\n",
    "current_value = 1         #Here the beginning value of loop var current value is assigned as 1 \n",
    "while current_value <= 5: #Loop condition is applied here, i.e. to repeat the code till final value comes upto <= 5\n",
    "    print(current_value)  \n",
    "    current_value += 1    #This expression is used for incrementing value in var current_value by + 1\n"
   ]
  },
  {
   "cell_type": "code",
   "execution_count": 38,
   "metadata": {},
   "outputs": [
    {
     "name": "stdout",
     "output_type": "stream",
     "text": [
      "Kya hai aapka Sandesh?Baratiyo ko kameez silwa lo\n",
      "Baratiyo ko kameez silwa lo\n",
      "Kya hai aapka Sandesh?Chhoti Kameez bhijwa do, badi ka numayna nahi hua\n",
      "Chhoti Kameez bhijwa do, badi ka numayna nahi hua\n",
      "Kya hai aapka Sandesh?quit\n",
      "quit\n"
     ]
    }
   ],
   "source": [
    "#Following Code of conditional loop is being fired to work according to users dynamic entries.\n",
    "# Demonstration is as follows\n",
    "sandesh=''\n",
    "while sandesh !='quit': #Here the loop will run till it gets entry as 'quit'\n",
    "    sandesh=input(\"Kya hai aapka Sandesh?\") #This line is used to take entries from user and store values in sandesh\n",
    "    print(sandesh) \n"
   ]
  },
  {
   "cell_type": "code",
   "execution_count": 49,
   "metadata": {},
   "outputs": [
    {
     "name": "stdout",
     "output_type": "stream",
     "text": [
      "{'color': 'green', 'points': 5}\n"
     ]
    }
   ],
   "source": [
    "#After the List sessions, we will move towards Dictionary which basically contains the information\n",
    "# in the form of key-value pairs, and it maintains the intermediate connections\n",
    "#Following is the demonstration of simple dictionary\n",
    "alien = {'color': 'green', 'points': 5} #Here color and points are keys whereas green and 5 are their respective values\n",
    "                                        # Every dictionary is enveloped by curly braces\n",
    "print(alien)"
   ]
  },
  {
   "cell_type": "code",
   "execution_count": 50,
   "metadata": {},
   "outputs": [
    {
     "name": "stdout",
     "output_type": "stream",
     "text": [
      "The alien's color is green\n"
     ]
    }
   ],
   "source": [
    "#Here we are going to access the particular value of desired key\n",
    "print(\"The alien's color is \"+alien['color'])"
   ]
  },
  {
   "cell_type": "code",
   "execution_count": 51,
   "metadata": {},
   "outputs": [
    {
     "name": "stdout",
     "output_type": "stream",
     "text": [
      "{'color': 'green', 'points': 5, 'detroit': 'Executed'}\n"
     ]
    }
   ],
   "source": [
    "#We can add the new key-value pair directly as follows\n",
    "alien['detroit']='Executed'  #New key named 'detroit' and its value 'Executed' are added as a pair in dictionary alien\n",
    "print(alien)"
   ]
  },
  {
   "cell_type": "code",
   "execution_count": 52,
   "metadata": {},
   "outputs": [
    {
     "name": "stdout",
     "output_type": "stream",
     "text": [
      "eric loves 17\n",
      "ever loves 4\n"
     ]
    }
   ],
   "source": [
    "#We can run through or loop through all the key-value pairs from dictionary\n",
    "fav_numbers = {'eric': 17, 'ever': 4}      #New Dictionary fav_numbers containing respective pairs\n",
    "for name, number in fav_numbers.items():   #Here for loop is fired to depict both keys and values in desired manner by \n",
    "                                           #calling the .items()  \n",
    "    print(name + ' loves ' + str(number))"
   ]
  },
  {
   "cell_type": "code",
   "execution_count": 63,
   "metadata": {},
   "outputs": [
    {
     "name": "stdout",
     "output_type": "stream",
     "text": [
      "Namashkaar \n"
     ]
    }
   ],
   "source": [
    "#FUNCTIONS\n",
    "#Functions are basically user defined blocks of code,which are designed to do one specified job.As we are passing\n",
    "# the information to function, it is called as argument and the info. received by function is called as parameter.\n",
    "#Following is the simple demonstration of Simple Function\n",
    "def greet_user():         #Here def is used to define function and greet_user() followed by () states function depiction\n",
    "    \"Display a simple greeting.\" #Just a blank parametric string\n",
    "    print(\"Namashkaar \") \n",
    "\n",
    "greet_user()             #Calling of simple function"
   ]
  },
  {
   "cell_type": "code",
   "execution_count": 66,
   "metadata": {},
   "outputs": [
    {
     "name": "stdout",
     "output_type": "stream",
     "text": [
      "Hello, Rahul!\n"
     ]
    }
   ],
   "source": [
    "#After the simple function, we will move further to pass an argument to function\n",
    "def greet_user(username):            #Here username is an argument for function greet_user\n",
    "    \n",
    "    \"\"\"Display a personalized greeting.\"\"\"\n",
    "    \n",
    "    print(\"Hello, \" + username + \"!\")  #Here blank argument would be filled with original entry in function \n",
    "                                    #and it would get printed\n",
    "    \n",
    "greet_user('Rahul')             #Calling The Entry with help of function"
   ]
  },
  {
   "cell_type": "code",
   "execution_count": 74,
   "metadata": {},
   "outputs": [
    {
     "name": "stdout",
     "output_type": "stream",
     "text": [
      "Have a bacon pizza!\n",
      "Have a Macaroni pizza!\n"
     ]
    }
   ],
   "source": [
    "#Default Parametric values can be assigned to arguments if there is absense of required arguments while calling function\n",
    "def make_pizza(topping='bacon'):  #Here topping='bacon' is default parametric value for function make_pizza()\n",
    "    \"\"\"Make a single-topping pizza.\"\"\"\n",
    "    print(\"Have a \" + topping + \" pizza!\")\n",
    "make_pizza() \n",
    "make_pizza('Macaroni')          "
   ]
  },
  {
   "cell_type": "code",
   "execution_count": 75,
   "metadata": {},
   "outputs": [
    {
     "name": "stdout",
     "output_type": "stream",
     "text": [
      "8\n"
     ]
    }
   ],
   "source": [
    "#Function to return the value for specified operations\n",
    "def add_numbers(x, y): #here x and y are empty arguments\n",
    "    \"\"\"Add two numbers and return the sum.\"\"\"\n",
    "    return x + y       #Here addition of x and y is returned at the time of calling of function add_numbers\n",
    "\n",
    "sum = add_numbers(3, 5) #Here the arguments are passed to the function add_numbers for calculation purpose\n",
    "                        # and the result is stored in the variable sum \n",
    "print(sum)          "
   ]
  },
  {
   "cell_type": "code",
   "execution_count": 2,
   "metadata": {},
   "outputs": [
    {
     "name": "stdout",
     "output_type": "stream",
     "text": [
      "Samsher is very furious!\n",
      "Samsher is sitting .\n"
     ]
    }
   ],
   "source": [
    "#Classes in Python\n",
    "#Classes basically provide the bundling of data and functionality together.It basically reduces the rewriting of code\n",
    "# to make whole code less complex.Class defines the behavior of an objectand the kind of information an object can store.\n",
    "# The information in a class is stored in attributes, and functions that belong to a class are called methods. \n",
    "# A child class inherits the attributes and methods from its parent class\n",
    "#Following is an example for the creation of the class\n",
    "class Tiger():                #keyword 'class' is used while creating a class \n",
    "    \"\"\"Depiction of a Tiger\"\"\"\n",
    "    def __init__(self,name): #Here by using __init__  an initialization of an object for class Tiger takes place where, \n",
    "                             #self is used to bind the attributes with argument to class as it also \n",
    "                             # represent instance of class \n",
    "        \"\"\"Initializing Tiger Object\"\"\"\n",
    "        self.name = name     \n",
    "    def sit(self):            #Here a method sit() i.e.function  of class Tiger is created for further executions \n",
    "        \"\"\"Demonstrates Sitting.\"\"\"\n",
    "        print(self.name + \" is sitting .\")\n",
    "    \n",
    "my_tiger = Tiger('Samsher')#Here an argument is passed to class Tiger's name object and result is stored in var my_tiger \n",
    "\n",
    "print(my_tiger.name + \" is very furious!\" ) # Here passed argument is printed \n",
    "my_tiger.sit()      #Here method sit() is called by variable my_tiger\n"
   ]
  },
  {
   "cell_type": "code",
   "execution_count": 6,
   "metadata": {},
   "outputs": [
    {
     "name": "stdout",
     "output_type": "stream",
     "text": [
      "Sherkhan is wild and untamed \n",
      "Sherkhan is sitting .\n",
      "Sherkhan is Roaring..!!\n"
     ]
    }
   ],
   "source": [
    "#In Python , Classes are also having the inheritance feature i.e.One class can inherit all the features or classes from \n",
    "# another class. The class_1 from which properties are inherited is known as parent class and class_2 which have \n",
    "# inherited the properties from class_1 is known as child class\n",
    "class BabbarTiger(Tiger):     #Here class BabbarTiger is inheriting the properties from class Tiger\n",
    "    \"\"\"Represents Babbar Sher\"\"\"\n",
    "    \n",
    "    def __init__(self,name):\n",
    "        \"\"\"Initialize the Babbar Sher.\"\"\"\n",
    "        super().__init__(name)  #Here as the class Tiger is being inherited by BabbarTiger then method super() is\n",
    "                               # used to call a substitute object of parent class Tiger       \n",
    "    def roar(self):\n",
    "        \"\"\"Demonstrates Roaring\"\"\"\n",
    "        print(self.name +  \" is Roaring..!!\")\n",
    "my_tiger = BabbarTiger('Sherkhan') \n",
    "print(my_tiger.name + \" is wild and untamed \")\n",
    "my_tiger.sit()        #This sit() method is inherited from class Tiger and called out by object of BabbarTiger\n",
    "my_tiger.roar()       #This roar method is of class BabbarTiger to return the values as "
   ]
  },
  {
   "cell_type": "code",
   "execution_count": 9,
   "metadata": {},
   "outputs": [
    {
     "name": "stdout",
     "output_type": "stream",
     "text": [
      "This is Testing Document for Python\n",
      "\n"
     ]
    }
   ],
   "source": [
    "#Working With The Files using Python\n",
    "#Our programs can read from files and even write to files.Files are opened in read mode ('r') by default,\n",
    "# but can also be opened in write mode ('w') and append mode ('a').\n",
    "#Following is a demonstration of Reading a file and storing its lines\n",
    "filename = 'Rahul.txt'   #Here file type,name and address of file is assigned to filename var.\n",
    "with open(filename) as file_object: # This line depicts the opening command of file through program\n",
    "    lines = file_object.readlines() # This line represents the reading of lines from file.\n",
    "    for line in lines:              #Here  for loop is used to read lines.\n",
    "        print(line)"
   ]
  },
  {
   "cell_type": "code",
   "execution_count": 17,
   "metadata": {},
   "outputs": [],
   "source": [
    "#Following is demonstration for writing into a particular file\n",
    "filename = 'Freablack.txt' \n",
    "with open(filename,'w') as file_object:\n",
    "    file_object.write(\"Writing to Pytho Testing Lab Now\") #Here given string is being written using write() method\n",
    "\n"
   ]
  },
  {
   "cell_type": "code",
   "execution_count": 18,
   "metadata": {},
   "outputs": [],
   "source": [
    "#Following Demonstration is for appending the content into a particular file\n",
    "filename = 'Freablack.txt'\n",
    "with open(filename, 'a') as file_object:\n",
    "    file_object.write(\"\\nI love making games.\")"
   ]
  },
  {
   "cell_type": "code",
   "execution_count": null,
   "metadata": {},
   "outputs": [],
   "source": []
  }
 ],
 "metadata": {
  "kernelspec": {
   "display_name": "Python 3",
   "language": "python",
   "name": "python3"
  },
  "language_info": {
   "codemirror_mode": {
    "name": "ipython",
    "version": 3
   },
   "file_extension": ".py",
   "mimetype": "text/x-python",
   "name": "python",
   "nbconvert_exporter": "python",
   "pygments_lexer": "ipython3",
   "version": "3.6.8"
  }
 },
 "nbformat": 4,
 "nbformat_minor": 2
}
