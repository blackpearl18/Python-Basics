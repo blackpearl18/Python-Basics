{
 "cells": [
  {
   "cell_type": "code",
   "execution_count": 111,
   "metadata": {},
   "outputs": [],
   "source": [
    "#The dictionary in python is basically the set of relatable info.,which can be clubbed with the elements like keys \n",
    "#and the values stored in those keys. The values could be fetched back by their particular keys, and these pairs of \n",
    "#keys-values are looped through , for the ease of access to whole dictionary"
   ]
  },
  {
   "cell_type": "code",
   "execution_count": 112,
   "metadata": {},
   "outputs": [],
   "source": [
    "#Beginning with dictionary demonstration\n",
    "tuco = {'color': 'red', 'points': 8} #Here curly braces are used to define the dictionary, and  it's syntax is  \n",
    "                                       #variable ={key:'value'} "
   ]
  },
  {
   "cell_type": "code",
   "execution_count": 113,
   "metadata": {},
   "outputs": [
    {
     "name": "stdout",
     "output_type": "stream",
     "text": [
      "red\n",
      "8\n"
     ]
    }
   ],
   "source": [
    "#Demonstration for fetching the values by calling the associated keys\n",
    "print(tuco['color'])     #Here using key color within tuco's set ,\n",
    "print(tuco['points'])  "
   ]
  },
  {
   "cell_type": "code",
   "execution_count": 114,
   "metadata": {},
   "outputs": [
    {
     "name": "stdout",
     "output_type": "stream",
     "text": [
      "red\n",
      "8\n"
     ]
    }
   ],
   "source": [
    "tuco_color = tuco.get('color')      #Here get() is used to fetch info within the key 'color' & store it in var tuco_color\n",
    "tuco_points = tuco.get('points',0)#Here get() is used to fetch info within the key 'points' & store it in var tuco_points\n",
    "print(tuco_color)\n",
    "print(tuco_points)"
   ]
  },
  {
   "cell_type": "code",
   "execution_count": 115,
   "metadata": {},
   "outputs": [],
   "source": [
    "#In the dictionary, we can add as many keys-values pairs you want till the storage limit of your computer.\n",
    "#In Dictionary , we cannot added at the same key-value pairs again as each one has specific identity\n",
    "tuco['raja']=0       #Here the key-value pair is directly added to dictionary using specified syntax.\n",
    "tuco['height']= 4.5\n",
    "tuco['weight']= 30"
   ]
  },
  {
   "cell_type": "code",
   "execution_count": 116,
   "metadata": {},
   "outputs": [
    {
     "name": "stdout",
     "output_type": "stream",
     "text": [
      "{'color': 'red', 'points': 8, 'raja': 0, 'height': 4.5, 'weight': 30}\n"
     ]
    }
   ],
   "source": [
    "print(tuco)"
   ]
  },
  {
   "cell_type": "code",
   "execution_count": 117,
   "metadata": {},
   "outputs": [],
   "source": [
    "#For the modification purpose ,we just need to call the key name and change the value within it.\n",
    "#For. example\n",
    "tuco['color']='maroon'  \n",
    "tuco['weight']=25"
   ]
  },
  {
   "cell_type": "code",
   "execution_count": 118,
   "metadata": {},
   "outputs": [
    {
     "name": "stdout",
     "output_type": "stream",
     "text": [
      "{'color': 'maroon', 'points': 8, 'raja': 0, 'height': 4.5, 'weight': 25}\n"
     ]
    }
   ],
   "source": [
    "print(tuco)"
   ]
  },
  {
   "cell_type": "code",
   "execution_count": 119,
   "metadata": {},
   "outputs": [],
   "source": [
    "#We can also peform the operation for the deletion of particular key in dictionary\n",
    "del tuco['height']"
   ]
  },
  {
   "cell_type": "code",
   "execution_count": 120,
   "metadata": {},
   "outputs": [
    {
     "name": "stdout",
     "output_type": "stream",
     "text": [
      "{'color': 'maroon', 'points': 8, 'raja': 0, 'weight': 25}\n"
     ]
    }
   ],
   "source": [
    "print(tuco) "
   ]
  },
  {
   "cell_type": "code",
   "execution_count": 121,
   "metadata": {},
   "outputs": [],
   "source": [
    "#Looping Throughout Dictionary\n",
    "#There are possibilities that you can loop through the key-value pairs,all the keys, or all the  values.\n",
    "#It just tracks nothing much but the connection between the keys and values.Rest of the sorting thing depends on end user"
   ]
  },
  {
   "cell_type": "code",
   "execution_count": 122,
   "metadata": {},
   "outputs": [],
   "source": [
    "#Following is the demonstration of looping throughout the dictionary\n",
    "#Store people's favourite shows\n",
    "fav_shw={ 'Gaurav':'blackmirror','Husain':'GOT','Midhun':'Random_asianet_prog','Rahul':'BreakingBad','Kunal':'RickMorty'}\n"
   ]
  },
  {
   "cell_type": "code",
   "execution_count": 123,
   "metadata": {},
   "outputs": [
    {
     "name": "stdout",
     "output_type": "stream",
     "text": [
      "Hello This is Gaurav \n",
      "My Favourite Show is blackmirror\n",
      "Hello This is Husain \n",
      "My Favourite Show is GOT\n",
      "Hello This is Midhun \n",
      "My Favourite Show is Random_asianet_prog\n",
      "Hello This is Rahul \n",
      "My Favourite Show is BreakingBad\n",
      "Hello This is Kunal \n",
      "My Favourite Show is RickMorty\n"
     ]
    }
   ],
   "source": [
    "#To display each item alongwith the stored values, following loop is being fired.\n",
    "for buddy,show in fav_shw.items():\n",
    "    print(\"Hello This is \"+buddy+\" \\nMy Favourite Show is \"+ show) #Each item's stored value is being printedrr"
   ]
  },
  {
   "cell_type": "code",
   "execution_count": 124,
   "metadata": {},
   "outputs": [
    {
     "name": "stdout",
     "output_type": "stream",
     "text": [
      "Gaurav\n",
      "Husain\n",
      "Midhun\n",
      "Rahul\n",
      "Kunal\n"
     ]
    }
   ],
   "source": [
    "#Following code is used to print the keys stored in the items and capitalize each key\n",
    "for buddy in fav_shw.keys(): \n",
    "    print(buddy.capitalize()) "
   ]
  },
  {
   "cell_type": "code",
   "execution_count": 125,
   "metadata": {},
   "outputs": [
    {
     "name": "stdout",
     "output_type": "stream",
     "text": [
      "blackmirror\n",
      "GOT\n",
      "Random_asianet_prog\n",
      "BreakingBad\n",
      "RickMorty\n"
     ]
    }
   ],
   "source": [
    "#Following code is used to print the values stored in the items and capitalize each  string value\n",
    "for show in fav_shw.values():\n",
    "    print(show) "
   ]
  },
  {
   "cell_type": "code",
   "execution_count": 126,
   "metadata": {},
   "outputs": [
    {
     "name": "stdout",
     "output_type": "stream",
     "text": [
      "This is  Gaurav \n",
      "My Favourite Show is blackmirror\n",
      "This is  Husain \n",
      "My Favourite Show is GOT\n",
      "This is  Kunal \n",
      "My Favourite Show is RickMorty\n",
      "This is  Midhun \n",
      "My Favourite Show is Random_asianet_prog\n",
      "This is  Rahul \n",
      "My Favourite Show is BreakingBad\n"
     ]
    }
   ],
   "source": [
    "#To display every key ie.item name in sorted way following loop is fired.\n",
    "for buddy,show in sorted(fav_shw.items()):   \n",
    "    \n",
    "    print(\"This is  \"+buddy+\" \\nMy Favourite Show is \"+show )  #Each item's stored value is being printed"
   ]
  },
  {
   "cell_type": "code",
   "execution_count": 127,
   "metadata": {},
   "outputs": [
    {
     "name": "stdout",
     "output_type": "stream",
     "text": [
      "5\n"
     ]
    }
   ],
   "source": [
    " #Here it displays number of items in the dictionary\n",
    "num_response=len(fav_shw)\n",
    "print(num_response)"
   ]
  },
  {
   "cell_type": "code",
   "execution_count": 128,
   "metadata": {},
   "outputs": [],
   "source": [
    "#Nesting-A list of Dictionaries \n",
    "#This concept is used for storing the multiple dictionaries in a list"
   ]
  },
  {
   "cell_type": "code",
   "execution_count": 5,
   "metadata": {},
   "outputs": [],
   "source": [
    "#Beginning of nesting with empty list\n",
    "nest=[] "
   ]
  },
  {
   "cell_type": "code",
   "execution_count": 6,
   "metadata": {},
   "outputs": [],
   "source": [
    "#Following is entry of new dictionary in empty list\n",
    "flock_1={'kala':'kauva','safed':'hans','bhandd':'kabutar'}"
   ]
  },
  {
   "cell_type": "code",
   "execution_count": 7,
   "metadata": {},
   "outputs": [],
   "source": [
    "nest.append(flock_1) #This appending function is used to add flock_1 in empty list."
   ]
  },
  {
   "cell_type": "code",
   "execution_count": 8,
   "metadata": {},
   "outputs": [
    {
     "name": "stdout",
     "output_type": "stream",
     "text": [
      "[{'kala': 'kauva', 'safed': 'hans', 'bhandd': 'kabutar'}]\n"
     ]
    }
   ],
   "source": [
    "print (nest)#To print the nest variables contents ,i.e.newly created dictionary flock_1"
   ]
  },
  {
   "cell_type": "code",
   "execution_count": 9,
   "metadata": {},
   "outputs": [],
   "source": [
    "#Following is entry of new dictionary in previously filled list\n",
    "flock_2={'black':'crow','white':'swan','high':'pigeon'} "
   ]
  },
  {
   "cell_type": "code",
   "execution_count": 10,
   "metadata": {},
   "outputs": [
    {
     "name": "stdout",
     "output_type": "stream",
     "text": [
      "[{'kala': 'kauva', 'safed': 'hans', 'bhandd': 'kabutar'}, {'black': 'crow', 'white': 'swan', 'high': 'pigeon'}]\n"
     ]
    }
   ],
   "source": [
    "nest.append(flock_2) #This appending function is used to add flock_2 to previosly filled list\n",
    "print(nest) #To print the nest variables contents ,i.e.both flock_1 and flock_2"
   ]
  },
  {
   "cell_type": "code",
   "execution_count": 11,
   "metadata": {},
   "outputs": [
    {
     "name": "stdout",
     "output_type": "stream",
     "text": [
      "kala\t :kauva\n",
      "safed\t :hans\n",
      "bhandd\t :kabutar\n",
      "\n",
      "\n",
      "black\t :crow\n",
      "white\t :swan\n",
      "high\t :pigeon\n",
      "\n",
      "\n"
     ]
    }
   ],
   "source": [
    "#Here, following for loop is fired to get the result as both dictionaries as per their lead variables\n",
    "for nestwala in nest:\n",
    "    for keys,values in nestwala.items():#Here variables keys and values are used to represent the dictionary's scenario\n",
    "            print (keys +\"\\t :\" +values)\n",
    "    print(\"\\n\")"
   ]
  },
  {
   "cell_type": "code",
   "execution_count": 12,
   "metadata": {},
   "outputs": [],
   "source": [
    "#Here we can also define the list of dictionary without using the append() function as follow\n",
    "vehicles=[{'Nissan':'LadyBlue','Mitsubishi':'BlackWidow','MG':'SassyRed'},\n",
    "         {'Ferrari':'Matteolive','Pagani':'WhiteLady','RollsRoyce':'Wheels_Palcy'}] "
   ]
  },
  {
   "cell_type": "code",
   "execution_count": 15,
   "metadata": {},
   "outputs": [
    {
     "name": "stdout",
     "output_type": "stream",
     "text": [
      "Nissan\t:LadyBlue\n",
      "\n",
      "\n",
      "Mitsubishi\t:BlackWidow\n",
      "\n",
      "\n",
      "MG\t:SassyRed\n",
      "\n",
      "\n",
      "Ferrari\t:Matteolive\n",
      "\n",
      "\n",
      "Pagani\t:WhiteLady\n",
      "\n",
      "\n",
      "RollsRoyce\t:Wheels_Palcy\n",
      "\n",
      "\n"
     ]
    }
   ],
   "source": [
    "#Following is fired to print the list of dictionary \n",
    "for gadiya in vehicles:\n",
    "    for k1,v1 in gadiya.items():#here vars k1,v1 are used to show the dict.and gadiya.items() is to fetch dictionary\n",
    "        print(k1+'\\t:'+v1)   \n",
    "        print(\"\\n\") "
   ]
  },
  {
   "cell_type": "code",
   "execution_count": 17,
   "metadata": {},
   "outputs": [],
   "source": [
    "#Further We are going to create Dictionary of Lists which are having sub dictionaries\n",
    "fav_series={\n",
    " 'Husain':['GOT','Mirzapur'],'Gaurav':['Sacred Games','Sasural Simar ka'],\n",
    "    'Midhun':['Random Asianet','Something_Malayali'],'Rahul':['Breaking Bad','Rick and Morty'],\n",
    "    'Kunal':['Chacha Chaudhary','Vikral aur Gabral']\n",
    "}"
   ]
  },
  {
   "cell_type": "code",
   "execution_count": 22,
   "metadata": {},
   "outputs": [
    {
     "name": "stdout",
     "output_type": "stream",
     "text": [
      "Husain :\n",
      "\t- GOT\n",
      "\t- Mirzapur\n",
      "Gaurav :\n",
      "\t- Sacred Games\n",
      "\t- Sasural Simar ka\n",
      "Midhun :\n",
      "\t- Random Asianet\n",
      "\t- Something_Malayali\n",
      "Rahul :\n",
      "\t- Breaking Bad\n",
      "\t- Rick and Morty\n",
      "Kunal :\n",
      "\t- Chacha Chaudhary\n",
      "\t- Vikral aur Gabral\n"
     ]
    }
   ],
   "source": [
    "#For displaying the relative result for respect dictionary items, following loop is fired\n",
    "for launde,dharavahik in fav_series.items(): #All the keys and there respective values in the form \n",
    "    print(launde +\" :\")                      # of lists are printed below \n",
    "    for episode in dharavahik:\n",
    "        print(\"\\t- \" + episode)             #Values printed in next line of the keys"
   ]
  },
  {
   "cell_type": "code",
   "execution_count": 40,
   "metadata": {},
   "outputs": [],
   "source": [
    "#Nested Dictionary\n",
    "#Now here, we are going to create dictionary which stores other dictionaries as other items in it.\n",
    "#(My_Rough_Code _Begin)\n",
    "#fav_movies={\n",
    "#    'Angrezi':{\n",
    "#        'Gaurav':'Shutter_Island',\n",
    "#        'Midhun':'Pata_nai',\n",
    "#        'Husain':'Limitless'\n",
    "#    }, \n",
    "#    'Hindi ' :{\n",
    "#        'Gaurav':'Baghbaan',\n",
    "#        'Midhun':'Khattameetha',\n",
    "#        'Husain':'Bablu45'\n",
    "        \n",
    "#    }\n",
    "#} (My_RoughCode _End) \n",
    "    \n",
    "users = {'aeinstein': {'first': 'albert','last': 'einstein','location': 'princeton'},\n",
    "         'mcurie': {'first': 'marie','last': 'curie','location': 'paris',}} "
   ]
  },
  {
   "cell_type": "code",
   "execution_count": 42,
   "metadata": {},
   "outputs": [
    {
     "name": "stdout",
     "output_type": "stream",
     "text": [
      "\n",
      "Username: aeinstein\n",
      "\tFull name: Albert Einstein\n",
      "\tLocation: Princeton\n",
      "\n",
      "Username: mcurie\n",
      "\tFull name: Marie Curie\n",
      "\tLocation: Paris\n"
     ]
    }
   ],
   "source": [
    "#Following loop and commands are fired to print the details of nested dictionary\n",
    "#(My_Rough_Code _Begin)\n",
    "#(for movie_types,sabke_nam in fav_movies.items():\n",
    "#    print(\"\\n Movie Type \\t\" + movie_types)\n",
    "#    pehla_nam=sabke_nam['Gaurav'] +\" \"\n",
    "#    pehla_nam +=sabke_nam['Midhun']\n",
    "#    tisra_nam=sabke_nam['Husain']\n",
    "    \n",
    "#    print(\"\\n Dekhnewale ka naam: \"+pehla_nam.title())\n",
    "#    print(\"\\n Bache huye ka naam: \" +tisra_nam.title()) \n",
    "#(My_RoughCode _End)  \n",
    "for username, user_dict in users.items():\n",
    "    print(\"\\nUsername: \" + username) \n",
    "    full_name = user_dict['first'] + \" \" #Here value from mentioned key is assigned to var full_name\n",
    "    full_name += user_dict['last']       #Here value from mentioned key is added to var full_name\n",
    "    location = user_dict['location']    # Here value from key location is assigned to var location \n",
    "    print(\"\\tFull name: \" + full_name.title()) #Here the data assigned to the var full_name is printed here\n",
    "    print(\"\\tLocation: \" + location.title())   #Here the data assigned to the var location is printed here\n",
    "    "
   ]
  },
  {
   "cell_type": "code",
   "execution_count": 44,
   "metadata": {},
   "outputs": [],
   "source": [
    "#Using OrderedDict \n",
    "#Usually the standard python libraries dont keep the track records of the particular order in which the keys and \n",
    "# respective values are added,instead just keep the normal association between keys and values.\n",
    "# For getting the preservant order in which keys and values are added, python provides us OrderedDict.\n",
    "from collections import OrderedDict "
   ]
  },
  {
   "cell_type": "code",
   "execution_count": 46,
   "metadata": {},
   "outputs": [],
   "source": [
    "#Following code is used to store each person's fav_shows, keeping  track of who responded first.\n",
    "fav_series = OrderedDict() "
   ]
  },
  {
   "cell_type": "code",
   "execution_count": 48,
   "metadata": {},
   "outputs": [],
   "source": [
    "fav_series['Husain'] = ['GOT','Mirzapur'] \n",
    "fav_series['Midhun'] = ['Random Asianet','Something_Malayali'] \n",
    "fav_series['Rahul'] = ['Breaking Bad','Rick and Morty'] \n",
    "fav_series['Kunal'] = ['Chacha Chaudhary','Vikral aur Gabral'] "
   ]
  },
  {
   "cell_type": "code",
   "execution_count": 50,
   "metadata": {},
   "outputs": [
    {
     "name": "stdout",
     "output_type": "stream",
     "text": [
      "Husain\t :\n",
      " - GOT\n",
      " - Mirzapur\n",
      "Midhun\t :\n",
      " - Random Asianet\n",
      " - Something_Malayali\n",
      "Rahul\t :\n",
      " - Breaking Bad\n",
      " - Rick and Morty\n",
      "Kunal\t :\n",
      " - Chacha Chaudhary\n",
      " - Vikral aur Gabral\n"
     ]
    }
   ],
   "source": [
    "#Following code is fired to display the result in same order as they were entered\n",
    "for launde,dharavahik in fav_series.items():\n",
    "    print(launde +\"\\t :\")\n",
    "    for episode in dharavahik:\n",
    "        print(\" - \"+episode) "
   ]
  },
  {
   "cell_type": "code",
   "execution_count": null,
   "metadata": {},
   "outputs": [],
   "source": []
  }
 ],
 "metadata": {
  "kernelspec": {
   "display_name": "Python 3",
   "language": "python",
   "name": "python3"
  },
  "language_info": {
   "codemirror_mode": {
    "name": "ipython",
    "version": 3
   },
   "file_extension": ".py",
   "mimetype": "text/x-python",
   "name": "python",
   "nbconvert_exporter": "python",
   "pygments_lexer": "ipython3",
   "version": "3.6.8"
  }
 },
 "nbformat": 4,
 "nbformat_minor": 2
}
