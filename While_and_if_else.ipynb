{
 "cells": [
  {
   "cell_type": "code",
   "execution_count": 12,
   "metadata": {},
   "outputs": [
    {
     "data": {
      "text/plain": [
       "True"
      ]
     },
     "execution_count": 12,
     "metadata": {},
     "output_type": "execute_result"
    }
   ],
   "source": [
    "#Conditional Tests\n",
    "#It analyse the expressions whether they are true or false accordingly. It is used to decide whether the code in if \n",
    "# statement should be executed further.\n",
    "\n",
    "#Checking for the equality\n",
    "#It is used to check the equality between two values. Here single as single =  , is used for assigning the value to var.,\n",
    "# whereas double == is used for checking equality between two values.\n",
    "\n",
    "car='Nissan'          #Just a nominal assignment of value to the variable car.\n",
    "car == 'Nissan'       #As the Value is similar the output would be reflected as True."
   ]
  },
  {
   "cell_type": "code",
   "execution_count": 13,
   "metadata": {},
   "outputs": [
    {
     "data": {
      "text/plain": [
       "False"
      ]
     },
     "execution_count": 13,
     "metadata": {},
     "output_type": "execute_result"
    }
   ],
   "source": [
    "car ='Lexus'\n",
    "car=='BMW'              #Just a different value's entry which would reflect the resultant value,"
   ]
  },
  {
   "cell_type": "code",
   "execution_count": 14,
   "metadata": {},
   "outputs": [
    {
     "data": {
      "text/plain": [
       "True"
      ]
     },
     "execution_count": 14,
     "metadata": {},
     "output_type": "execute_result"
    }
   ],
   "source": [
    "#Sometimes there are confusions related to the cases of letters, so for flushing these confusions\n",
    "# we will use case functions along with the operators for conditional tests\n",
    "car='LamBorGhini'   #Intentional Entry of multiple cases in one word\n",
    "car.lower() =='lamborghini'   #Here case function for lowering all the letters in word is applied to verify the word."
   ]
  },
  {
   "cell_type": "code",
   "execution_count": 15,
   "metadata": {},
   "outputs": [
    {
     "data": {
      "text/plain": [
       "True"
      ]
     },
     "execution_count": 15,
     "metadata": {},
     "output_type": "execute_result"
    }
   ],
   "source": [
    "#As a counter comparison, i.e. to check the inequality between two values, we use ' not equal to - !=  sign\n",
    "color =' MatteBlack'     \n",
    "color !=' OliveGreen' #As here the sign is of not equal to - != , then and the values dont match, it will return True."
   ]
  },
  {
   "cell_type": "code",
   "execution_count": 16,
   "metadata": {},
   "outputs": [
    {
     "name": "stdout",
     "output_type": "stream",
     "text": [
      "True\n",
      "False\n"
     ]
    }
   ],
   "source": [
    "#Numerical Comparisons\n",
    "#In above operations we have checked the string values now we have to check the numerical values for testing purpose\n",
    "age= 18  #Here numerical value 18 is assigned to variable age\n",
    "print(age ==18 )   #Here equality test is  being performed ,whether the age variable's value equals to 18 or not, if yes \n",
    "                   # it will return true \n",
    "print(age!= 18)   #Here the test of inequality is being performed  and as the value is equal to 18 it returns false as \n",
    "                  # as it is inequality test."
   ]
  },
  {
   "cell_type": "code",
   "execution_count": 17,
   "metadata": {},
   "outputs": [
    {
     "name": "stdout",
     "output_type": "stream",
     "text": [
      "Enter The Age 22\n",
      "age =22\n",
      "Less Than Operation - age < 21 - False\n",
      "Less Than Equal to Operation - age <= 21 -False\n",
      "Greater Than Operation - age > 21 -True\n",
      "Greater Than Equal to Operation - age >= 21 -True\n"
     ]
    }
   ],
   "source": [
    "#After checking the equality test of the comparisons , further we will check for the other comparison\n",
    "# operators as follows\n",
    "#Comparison Operators operations are being demonstrated and results are displayed respectively\n",
    "age=input(\"Enter The Age \")\n",
    "age=int(age)\n",
    "print('age ='+str(age))\n",
    "\n",
    "#Less Than Operator\n",
    "#In below line Less than operator '<' is used ,which checks \n",
    "# if the value within age variable is less  than entered value 21 or not.\n",
    "print('Less Than Operation - age < 21 - ' + str(age<21)) \n",
    "\n",
    "#Less Than Equal To Operator\n",
    "# This line depicts Less than equal to operator '<=' which   \n",
    "#checks if the value in age is less than or equal to entered value. \n",
    "print('Less Than Equal to Operation - age <= 21 -'+ str(age<=21)) \n",
    "                                                                \n",
    "\n",
    "#Greater Than Operator\n",
    "#This line shows greater than operator '>' which   \n",
    "#checks if the value in age is greater than entered value or not. \n",
    "print('Greater Than Operation - age > 21 -'+ str(age>21))\n",
    "\n",
    "\n",
    "#Greater Than Equal To Operator\n",
    "#This line shows greater than equal to operator '>=' which   \n",
    "#checks if the value in age is greater than or equal to entered value or not. \n",
    "print('Greater Than Equal to Operation - age >= 21 -'+ str(age>=21))\n",
    " "
   ]
  },
  {
   "cell_type": "code",
   "execution_count": 20,
   "metadata": {},
   "outputs": [
    {
     "name": "stdout",
     "output_type": "stream",
     "text": [
      "age_0 = 22\n",
      "age_1 = 19\n",
      "\n",
      "age_0 >=21 and age_1>=21\n",
      "False\n"
     ]
    }
   ],
   "source": [
    "#CHECKING MULTIPLE CONDITIONS\n",
    "#We can also check the multiple conditions at the same time. It includes operators like 'and' and 'or'.\n",
    "#'and' returns True if all the listed conditions are True. \n",
    "#'or' returns True if one of the listed conditions is True.\n",
    "# Following is the demonstration of it.\n",
    "\n",
    "#Using 'and' to check the multiple conditions\n",
    "age_0 =22\n",
    "age_1 =19\n",
    "print('age_0 = '+str(age_0)+'\\nage_1 = '+str(age_1)) \n",
    "\n",
    "#In code below age_0 and age_1 both are compared with value 21,i.e. if both of them are greater than or equal to 21\n",
    "# then the operation will return True, or else False.Both are combinely applied for comparison using 'and' operator\n",
    "print('\\nage_0 >=21 and age_1>=21\\n'+str(age_0 >=21 and age_1>=21))\n"
   ]
  },
  {
   "cell_type": "code",
   "execution_count": 21,
   "metadata": {
    "scrolled": true
   },
   "outputs": [
    {
     "name": "stdout",
     "output_type": "stream",
     "text": [
      "age_1 = 23\n",
      "\n",
      "age_0 >=21 and age_1>=21\n",
      "True\n"
     ]
    }
   ],
   "source": [
    "#Here value of age_1 is changed to check as next condition.\n",
    "age_1= 23     \n",
    "print('age_1 = '+str(age_1)) \n",
    "# In code below age_0 and age_1 both are compared with value 21,i.e. if both one of them are greater than or equal to 21\n",
    "# then the operation will return True, or else False.Both are combinely applied for comparison using 'and' operator\n",
    "print('\\nage_0 >=21 and age_1>=21\\n'+str(age_0 >=21 and age_1>=21))\n",
    " "
   ]
  },
  {
   "cell_type": "code",
   "execution_count": 22,
   "metadata": {},
   "outputs": [
    {
     "name": "stdout",
     "output_type": "stream",
     "text": [
      "age_0 = 22\n",
      "age_1 = 19\n",
      "\n",
      "age_0 >=21 or age_1>=21\n",
      "True\n"
     ]
    }
   ],
   "source": [
    "#Using 'or' to check the multiple conditions\n",
    "age_0 =22\n",
    "age_1 =19\n",
    "print('age_0 = '+str(age_0)+'\\nage_1 = '+str(age_1)) \n",
    "\n",
    "#In code below age_0 and age_1 both are compared with value 21,i.e. if any one of them is greater than or equal to 21\n",
    "# then the operation will return True, or else False.Both are combinely applied for comparison using 'or' operator\n",
    "print('\\nage_0 >=21 or age_1>=21\\n'+str(age_0 >=21 or age_1>=21))"
   ]
  },
  {
   "cell_type": "code",
   "execution_count": 23,
   "metadata": {},
   "outputs": [
    {
     "name": "stdout",
     "output_type": "stream",
     "text": [
      "age_0 = 18\n",
      "\n",
      "age_0 >=21 or age_1>=21\n",
      "False\n"
     ]
    }
   ],
   "source": [
    "#Here value of age_0 is changed to check as next condition.\n",
    "age_0= 18     \n",
    "print('age_0 = '+str(age_0))\n",
    " \n",
    "#In code below age_0 and age_1 both are compared with value 21,i.e. if any one of them is greater than or equal to 21\n",
    "# then the operation will return True, or else False.Both are combinely applied for comparison using 'or' operator\n",
    "print('\\nage_0 >=21 or age_1>=21\\n'+str(age_0 >=21 or age_1>=21))"
   ]
  },
  {
   "cell_type": "code",
   "execution_count": 24,
   "metadata": {},
   "outputs": [
    {
     "name": "stdout",
     "output_type": "stream",
     "text": [
      "True\n",
      "False\n"
     ]
    }
   ],
   "source": [
    "#Boolean Values\n",
    "#Boolean value is either True or False. Variables with boolean values are basically used to keep the track of certain\n",
    "# conditions within the program.\n",
    "\n",
    "#Simple  Boolean  Values\n",
    "program_active = True       \n",
    "can_edit = False \n",
    "print(program_active)\n",
    "print(can_edit)"
   ]
  },
  {
   "cell_type": "code",
   "execution_count": null,
   "metadata": {},
   "outputs": [],
   "source": [
    "#IF STATEMENTS AND WHILE LOOPS\n",
    "#If statements are basically used to check the exact conditions i.e. It allows you to analyse the current state of the \n",
    "# program and respond accordingly to that state.It can be a simple if statement or a complexed series of if statements,\n",
    "# which will identify the exact conditions we are looking for."
   ]
  },
  {
   "cell_type": "code",
   "execution_count": 25,
   "metadata": {},
   "outputs": [
    {
     "name": "stdout",
     "output_type": "stream",
     "text": [
      "You are old enough to Vote\n"
     ]
    }
   ],
   "source": [
    "#If Statements\n",
    "#Following is the demonstration of  simple if statement\n",
    "age =19       \n",
    "\n",
    "if age >=18:   #Here the condition is checked that,if age variable contains value greater than or equal to 18 then \n",
    "               # it will proceed further and print the resultant statement.\n",
    "    print('You are old enough to Vote')"
   ]
  },
  {
   "cell_type": "code",
   "execution_count": 29,
   "metadata": {},
   "outputs": [
    {
     "name": "stdout",
     "output_type": "stream",
     "text": [
      "You can't vote yet.\n"
     ]
    }
   ],
   "source": [
    "#Following is the demonstration of If-else statement\n",
    "age = 17\n",
    "\n",
    "if age >= 18:                        #Here the condition is checked that,if age variable contains value greater\n",
    "                                     #than or equal to 18 then it will proceed further and print the resultant statement.\n",
    "    print(\"You're old enough to vote!\")\n",
    "    \n",
    "else:                              #This else part is executed when the conditions of if statement fails i.e. age is \n",
    "                                   # less than 18 \n",
    "    print(\"You can't vote yet.\")   "
   ]
  },
  {
   "cell_type": "code",
   "execution_count": 4,
   "metadata": {},
   "outputs": [
    {
     "name": "stdout",
     "output_type": "stream",
     "text": [
      "Enter Your Age 34\n",
      "Your ticket cost is $10.\n"
     ]
    }
   ],
   "source": [
    "#The if-elif-else chain\n",
    "#This is basically a nesting of if else-if and else statement.\n",
    "age = input(\"Enter Your Age \")   #Taking age as an input from user\n",
    "age=int(age)\n",
    "\n",
    "if age < 4:     #Primary Stage of if statement where age is being analysed if less than 4 then price should be '0'\n",
    "    price = 0\n",
    "    print(\"Your ticket cost is $\" + str(price) + \".\")\n",
    "elif age < 18:  #This is elif i.e. else with if ,which shows that if age is greater than 4 and lesser than 18 then  \n",
    "    price = 5   # the elif's statement would be executed which means price =5\n",
    "    print(\"Your ticket cost is $\" + str(price) + \".\")\n",
    "else:           #This is the else part which is being executed after total failure of first 2 conditions of if and \n",
    "                # 'elif'  which is subset of 'if'. This would return price =10 as age is not lesser than 18\n",
    "    price = 10\n",
    "    print(\"Your ticket cost is $\" + str(price) + \".\") "
   ]
  },
  {
   "cell_type": "code",
   "execution_count": 5,
   "metadata": {},
   "outputs": [
    {
     "name": "stdout",
     "output_type": "stream",
     "text": [
      "Enter the names of players who want to perform \n",
      "gaurav,husain,bablu,bittu,midhun\n",
      "Enter the player name to check if he is in list \n",
      "Rahul\n",
      "Banda Gayab Hai\n"
     ]
    }
   ],
   "source": [
    "#Conditional Tests with Lists.\n",
    "#While applying the conditional tests with list, we can check whether a certain value or item is in the list or not.\n",
    "# Even we can check that , if the list is empty or not.\n",
    "#Following is the demonstration for testing ,if the value is in the list.\n",
    "khiladi =input(\"Enter the names of players who want to perform \\n\") \n",
    "list = khiladi.split()   #This line shows that, no. of entries can be taken as an input from user for list.\n",
    "check=input(\"Enter the player name to check if he is in list \\n\") #Here item to be searched is taken as input from user.\n",
    "\n",
    "if (check in khiladi)== True:  #This will check the values in list if searched value\n",
    "    print ('Banda Maujud hai') #is present in list ,it will return true or else false\n",
    "else:\n",
    "    print('Banda Gayab Hai')                   "
   ]
  },
  {
   "cell_type": "code",
   "execution_count": 6,
   "metadata": {},
   "outputs": [
    {
     "name": "stdout",
     "output_type": "stream",
     "text": [
      "Enter the names of players who are in blacklist. \n",
      "gaurav,bittu,midhun,husain,rahul\n",
      "Enter name of player if he is in Blacklist \n",
      "kunal\n",
      "Ye Bhai Khelega\n"
     ]
    }
   ],
   "source": [
    "# Testing if the value is not present in the list.\n",
    "blacklist =input(\"Enter the names of players who are in blacklist. \\n\") \n",
    "list = blacklist.split()   #This line shows that, no. of entries can be taken as an input from user for list.\n",
    "check=input(\"Enter name of player if he is in Blacklist \\n\")#Here item to be searched is taken as input from user.\n",
    "\n",
    "if (check not in blacklist)== True:  #This will check the values in list if searched value\n",
    "    print ('Ye Bhai Khelega')     #is present in list ,it will return true or else false\n",
    "else:\n",
    "    print('Ye Banda Nai khelega ') "
   ]
  },
  {
   "cell_type": "code",
   "execution_count": 14,
   "metadata": {},
   "outputs": [
    {
     "name": "stdout",
     "output_type": "stream",
     "text": [
      "Enter the list of players   \n",
      "\n",
      "Aaj koi banda nai aaya !\n"
     ]
    }
   ],
   "source": [
    "#Checking if the list is empty or not\n",
    "khiladi=input(\"Enter the list of players   \") \n",
    "list=khiladi.split()              \n",
    "\n",
    "if khiladi:                #This statement is used to check, if any player is present in list to play,\n",
    "    for banda in khiladi:  # if yes then whole 'if' part would be executed otherwise, loop will shift to 'else part.'\n",
    "    \n",
    "        print(\"Aaj khelnewale khiladi hai :  \\n \"+khiladi.title()) \n",
    "else:\n",
    "     \n",
    "    print(\"\\nAaj koi banda nai aaya !\")    #Else part execution ,if the above list is empty"
   ]
  },
  {
   "cell_type": "code",
   "execution_count": 19,
   "metadata": {},
   "outputs": [
    {
     "name": "stdout",
     "output_type": "stream",
     "text": [
      "1\n",
      "2\n",
      "3\n",
      "4\n",
      "5\n"
     ]
    }
   ],
   "source": [
    "#While Loop\n",
    "#While loops run as long as certain conditions remain true. You can use while loops to let your programs run as long as\n",
    "# your users want them to.It basically repeats the block of code till the particular condition gets satisfied.\n",
    "\n",
    "#Following is the program to count numbers till 5\n",
    "cn=1\n",
    "while cn <=5:  #Here the limit condition is being set till value of cn is less than or equal to 5\n",
    "    print(cn)  #Here the value is being printed\n",
    "    cn +=1     #Here increment operator is used to increase the value of cn by +1 "
   ]
  },
  {
   "cell_type": "code",
   "execution_count": 6,
   "metadata": {},
   "outputs": [
    {
     "name": "stdout",
     "output_type": "stream",
     "text": [
      "\n",
      "Tell me something, and I'll repeat it back to you. \n",
      " Enter 'quit' to end the program.  Hello There\n",
      "Hello There\n",
      "\n",
      "Tell me something, and I'll repeat it back to you. \n",
      " Enter 'quit' to end the program.  How You Doing?\n",
      "How You Doing?\n",
      "\n",
      "Tell me something, and I'll repeat it back to you. \n",
      " Enter 'quit' to end the program.  Okay I must go\n",
      "Okay I must go\n",
      "\n",
      "Tell me something, and I'll repeat it back to you. \n",
      " Enter 'quit' to end the program.  quit\n"
     ]
    }
   ],
   "source": [
    "#Letting The User to Choose, when to quit\n",
    "#In this block of code, it will display or take the inputs from user, untill an users quits the program.\n",
    "prompt = \"\\nTell me something, and I'll repeat it back to you. \\n Enter 'quit' to end the program.  \"\n",
    "message = \"\" \n",
    "while message != 'quit':   #Here the content of message is being checked ,if the message does not contain 'quit' keyword\n",
    "                           # the entered input would be reflected as it is till the condition doesnt gets satisfied. \n",
    "    message = input(prompt)\n",
    "    if message != 'quit':\n",
    "        print(message) "
   ]
  },
  {
   "cell_type": "code",
   "execution_count": null,
   "metadata": {},
   "outputs": [],
   "source": []
  }
 ],
 "metadata": {
  "kernelspec": {
   "display_name": "Python 3",
   "language": "python",
   "name": "python3"
  },
  "language_info": {
   "codemirror_mode": {
    "name": "ipython",
    "version": 3
   },
   "file_extension": ".py",
   "mimetype": "text/x-python",
   "name": "python",
   "nbconvert_exporter": "python",
   "pygments_lexer": "ipython3",
   "version": "3.6.8"
  }
 },
 "nbformat": 4,
 "nbformat_minor": 2
}
